{
 "cells": [
  {
   "cell_type": "code",
   "execution_count": 3,
   "id": "d7755e29",
   "metadata": {},
   "outputs": [],
   "source": [
    "import requests\n",
    "import zipfile\n",
    "import io\n",
    "import os\n",
    "import pandas as pd\n",
    "from datetime import datetime"
   ]
  },
  {
   "cell_type": "code",
   "execution_count": 4,
   "id": "a2316945",
   "metadata": {},
   "outputs": [],
   "source": [
    "import DBconnection\n",
    "cursor, conn = DBconnection.get_connection()"
   ]
  },
  {
   "cell_type": "code",
   "execution_count": 5,
   "id": "be8847b2",
   "metadata": {
    "scrolled": true
   },
   "outputs": [
    {
     "name": "stdout",
     "output_type": "stream",
     "text": [
      "ok\n"
     ]
    }
   ],
   "source": [
    "PARENT_FOLDER=r\"C:\\Users\\bpes.MEDIS\\theses\\STATIC_DATA\"\n",
    "NEW_FOLDER=datetime.now().strftime(\"%d_%m_%Y_%H_%M_%S\")\n",
    "URL='https://svc.metrotransit.org/mtgtfs/gtfs.zip'\n",
    "NEW_PATH = os.path.join(PARENT_FOLDER, NEW_FOLDER)\n",
    "os.mkdir(NEW_PATH)\n",
    "RESPONSE=requests.get(URL)\n",
    "filename = URL.split('/')[-1]\n",
    "if RESPONSE.status_code==200:\n",
    "        open(filename,'wb').write(RESPONSE.content)\n",
    "        zf_gtfs_static_current = zipfile.ZipFile(io.BytesIO(RESPONSE.content))\n",
    "        zf_gtfs_static_current.extractall(NEW_PATH)\n",
    "        vertion_path=os.path.join(NEW_PATH, 'feed_info.txt')\n",
    "        \n",
    "        cursor.execute('select feed_info.feed_version from feed_info order by feed_info.feed_version desc limit 1')\n",
    "        record = cursor.fetchone()\n",
    "        \n",
    "        data=pd.read_csv(vertion_path)\n",
    "        feed_info_data = pd.DataFrame(data)\n",
    "\n",
    "        if (record==None) or (str(feed_info_data['feed_version'].iloc[0]) != str(record[0])):\n",
    "            print('ok')\n",
    "           \n",
    "                 \n",
    "        "
   ]
  },
  {
   "cell_type": "code",
   "execution_count": null,
   "id": "a57fafc9",
   "metadata": {},
   "outputs": [],
   "source": []
  }
 ],
 "metadata": {
  "kernelspec": {
   "display_name": "Python 3 (ipykernel)",
   "language": "python",
   "name": "python3"
  },
  "language_info": {
   "codemirror_mode": {
    "name": "ipython",
    "version": 3
   },
   "file_extension": ".py",
   "mimetype": "text/x-python",
   "name": "python",
   "nbconvert_exporter": "python",
   "pygments_lexer": "ipython3",
   "version": "3.9.13"
  }
 },
 "nbformat": 4,
 "nbformat_minor": 5
}
